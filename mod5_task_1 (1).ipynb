{
  "nbformat": 4,
  "nbformat_minor": 0,
  "metadata": {
    "colab": {
      "provenance": []
    },
    "kernelspec": {
      "name": "python3",
      "display_name": "Python 3"
    },
    "language_info": {
      "name": "python"
    }
  },
  "cells": [
    {
      "cell_type": "code",
      "execution_count": 7,
      "metadata": {
        "id": "ppo7-bMovFMC"
      },
      "outputs": [],
      "source": [
        "import pandas as pd\n",
        "import numpy as np\n",
        "import matplotlib.pyplot as plt\n"
      ]
    },
    {
      "cell_type": "code",
      "source": [
        "url = \"https://uk.wikipedia.org/wiki/%D0%9D%D0%B0%D1%81%D0%B5%D0%BB%D0%B5%D0%BD%D0%BD%D1%8F_%D0%A3%D0%BA%D1%80%D0%B0%D1%97%D0%BD%D0%B8\"\n",
        "df = pd.read_html(url, match='Коефіцієнт народжуваності в регіонах України', thousands=\".\", decimal=\",\")[0]"
      ],
      "metadata": {
        "id": "bD_x2LhtvUzv",
        "collapsed": true
      },
      "execution_count": 17,
      "outputs": []
    },
    {
      "cell_type": "code",
      "source": [
        "print(df.head())"
      ],
      "metadata": {
        "colab": {
          "base_uri": "https://localhost:8080/"
        },
        "id": "Xc53NOt1vbTC",
        "outputId": "8cb92840-15c5-48bf-e07c-e0882a5fc389"
      },
      "execution_count": 18,
      "outputs": [
        {
          "output_type": "stream",
          "name": "stdout",
          "text": [
            "             Регіон  1950  1960  1970  1990  2000  2012  2014  2019\n",
            "0              Крим  23.0  20.6  16.0  13.0   7.3  12.6     —     —\n",
            "1         Вінницька  22.4  19.2  14.2  12.4   8.4  11.2  10.9   7.6\n",
            "2         Волинська  24.7  25.0  17.9  15.3  11.2  14.8  14.1  10.1\n",
            "3  Дніпропетровська  20.4  20.4  15.1  12.3   7.1  11.2  11.1   7.1\n",
            "4          Донецька  27.1  21.4  14.0  10.9   6.1   9.8   8.2     —\n"
          ]
        }
      ]
    },
    {
      "cell_type": "code",
      "source": [
        "print(df.shape)"
      ],
      "metadata": {
        "colab": {
          "base_uri": "https://localhost:8080/"
        },
        "id": "kyrg4gy1vU83",
        "outputId": "85d64fc5-4deb-4f3a-f3e4-bc63c17dd249"
      },
      "execution_count": 19,
      "outputs": [
        {
          "output_type": "stream",
          "name": "stdout",
          "text": [
            "(28, 9)\n"
          ]
        }
      ]
    },
    {
      "cell_type": "code",
      "source": [
        "df_new = df.replace(\"—\", np.nan)\n",
        "df_new.head(10)"
      ],
      "metadata": {
        "id": "wqdz20wWvVCh",
        "colab": {
          "base_uri": "https://localhost:8080/",
          "height": 363
        },
        "outputId": "734967c4-14a5-40ec-e52f-7ddb447fcc68"
      },
      "execution_count": 20,
      "outputs": [
        {
          "output_type": "execute_result",
          "data": {
            "text/plain": [
              "              Регіон  1950  1960  1970  1990  2000  2012  2014  2019\n",
              "0               Крим  23.0  20.6  16.0  13.0   7.3  12.6   NaN   NaN\n",
              "1          Вінницька  22.4  19.2  14.2  12.4   8.4  11.2  10.9   7.6\n",
              "2          Волинська  24.7  25.0  17.9  15.3  11.2  14.8  14.1  10.1\n",
              "3   Дніпропетровська  20.4  20.4  15.1  12.3   7.1  11.2  11.1   7.1\n",
              "4           Донецька  27.1  21.4  14.0  10.9   6.1   9.8   8.2   NaN\n",
              "5        Житомирська  26.1  22.3  15.9  12.9   8.9  12.2  12.0   7.9\n",
              "6       Закарпатська  31.4  27.3  20.7  16.8  11.5  15.1  14.6  10.4\n",
              "7         Запорізька  21.9  19.7  15.0  12.4   7.1  10.6  10.6   6.8\n",
              "8  Івано-Франківська  24.3  24.8  18.2  15.5  10.3  12.4  12.2   8.8\n",
              "9           Київська  20.4  18.9  15.6  12.3   7.3  12.2  12.1   8.0"
            ],
            "text/html": [
              "\n",
              "  <div id=\"df-c6586975-2fb0-4373-bcb2-febf738468a0\" class=\"colab-df-container\">\n",
              "    <div>\n",
              "<style scoped>\n",
              "    .dataframe tbody tr th:only-of-type {\n",
              "        vertical-align: middle;\n",
              "    }\n",
              "\n",
              "    .dataframe tbody tr th {\n",
              "        vertical-align: top;\n",
              "    }\n",
              "\n",
              "    .dataframe thead th {\n",
              "        text-align: right;\n",
              "    }\n",
              "</style>\n",
              "<table border=\"1\" class=\"dataframe\">\n",
              "  <thead>\n",
              "    <tr style=\"text-align: right;\">\n",
              "      <th></th>\n",
              "      <th>Регіон</th>\n",
              "      <th>1950</th>\n",
              "      <th>1960</th>\n",
              "      <th>1970</th>\n",
              "      <th>1990</th>\n",
              "      <th>2000</th>\n",
              "      <th>2012</th>\n",
              "      <th>2014</th>\n",
              "      <th>2019</th>\n",
              "    </tr>\n",
              "  </thead>\n",
              "  <tbody>\n",
              "    <tr>\n",
              "      <th>0</th>\n",
              "      <td>Крим</td>\n",
              "      <td>23.0</td>\n",
              "      <td>20.6</td>\n",
              "      <td>16.0</td>\n",
              "      <td>13.0</td>\n",
              "      <td>7.3</td>\n",
              "      <td>12.6</td>\n",
              "      <td>NaN</td>\n",
              "      <td>NaN</td>\n",
              "    </tr>\n",
              "    <tr>\n",
              "      <th>1</th>\n",
              "      <td>Вінницька</td>\n",
              "      <td>22.4</td>\n",
              "      <td>19.2</td>\n",
              "      <td>14.2</td>\n",
              "      <td>12.4</td>\n",
              "      <td>8.4</td>\n",
              "      <td>11.2</td>\n",
              "      <td>10.9</td>\n",
              "      <td>7.6</td>\n",
              "    </tr>\n",
              "    <tr>\n",
              "      <th>2</th>\n",
              "      <td>Волинська</td>\n",
              "      <td>24.7</td>\n",
              "      <td>25.0</td>\n",
              "      <td>17.9</td>\n",
              "      <td>15.3</td>\n",
              "      <td>11.2</td>\n",
              "      <td>14.8</td>\n",
              "      <td>14.1</td>\n",
              "      <td>10.1</td>\n",
              "    </tr>\n",
              "    <tr>\n",
              "      <th>3</th>\n",
              "      <td>Дніпропетровська</td>\n",
              "      <td>20.4</td>\n",
              "      <td>20.4</td>\n",
              "      <td>15.1</td>\n",
              "      <td>12.3</td>\n",
              "      <td>7.1</td>\n",
              "      <td>11.2</td>\n",
              "      <td>11.1</td>\n",
              "      <td>7.1</td>\n",
              "    </tr>\n",
              "    <tr>\n",
              "      <th>4</th>\n",
              "      <td>Донецька</td>\n",
              "      <td>27.1</td>\n",
              "      <td>21.4</td>\n",
              "      <td>14.0</td>\n",
              "      <td>10.9</td>\n",
              "      <td>6.1</td>\n",
              "      <td>9.8</td>\n",
              "      <td>8.2</td>\n",
              "      <td>NaN</td>\n",
              "    </tr>\n",
              "    <tr>\n",
              "      <th>5</th>\n",
              "      <td>Житомирська</td>\n",
              "      <td>26.1</td>\n",
              "      <td>22.3</td>\n",
              "      <td>15.9</td>\n",
              "      <td>12.9</td>\n",
              "      <td>8.9</td>\n",
              "      <td>12.2</td>\n",
              "      <td>12.0</td>\n",
              "      <td>7.9</td>\n",
              "    </tr>\n",
              "    <tr>\n",
              "      <th>6</th>\n",
              "      <td>Закарпатська</td>\n",
              "      <td>31.4</td>\n",
              "      <td>27.3</td>\n",
              "      <td>20.7</td>\n",
              "      <td>16.8</td>\n",
              "      <td>11.5</td>\n",
              "      <td>15.1</td>\n",
              "      <td>14.6</td>\n",
              "      <td>10.4</td>\n",
              "    </tr>\n",
              "    <tr>\n",
              "      <th>7</th>\n",
              "      <td>Запорізька</td>\n",
              "      <td>21.9</td>\n",
              "      <td>19.7</td>\n",
              "      <td>15.0</td>\n",
              "      <td>12.4</td>\n",
              "      <td>7.1</td>\n",
              "      <td>10.6</td>\n",
              "      <td>10.6</td>\n",
              "      <td>6.8</td>\n",
              "    </tr>\n",
              "    <tr>\n",
              "      <th>8</th>\n",
              "      <td>Івано-Франківська</td>\n",
              "      <td>24.3</td>\n",
              "      <td>24.8</td>\n",
              "      <td>18.2</td>\n",
              "      <td>15.5</td>\n",
              "      <td>10.3</td>\n",
              "      <td>12.4</td>\n",
              "      <td>12.2</td>\n",
              "      <td>8.8</td>\n",
              "    </tr>\n",
              "    <tr>\n",
              "      <th>9</th>\n",
              "      <td>Київська</td>\n",
              "      <td>20.4</td>\n",
              "      <td>18.9</td>\n",
              "      <td>15.6</td>\n",
              "      <td>12.3</td>\n",
              "      <td>7.3</td>\n",
              "      <td>12.2</td>\n",
              "      <td>12.1</td>\n",
              "      <td>8.0</td>\n",
              "    </tr>\n",
              "  </tbody>\n",
              "</table>\n",
              "</div>\n",
              "    <div class=\"colab-df-buttons\">\n",
              "\n",
              "  <div class=\"colab-df-container\">\n",
              "    <button class=\"colab-df-convert\" onclick=\"convertToInteractive('df-c6586975-2fb0-4373-bcb2-febf738468a0')\"\n",
              "            title=\"Convert this dataframe to an interactive table.\"\n",
              "            style=\"display:none;\">\n",
              "\n",
              "  <svg xmlns=\"http://www.w3.org/2000/svg\" height=\"24px\" viewBox=\"0 -960 960 960\">\n",
              "    <path d=\"M120-120v-720h720v720H120Zm60-500h600v-160H180v160Zm220 220h160v-160H400v160Zm0 220h160v-160H400v160ZM180-400h160v-160H180v160Zm440 0h160v-160H620v160ZM180-180h160v-160H180v160Zm440 0h160v-160H620v160Z\"/>\n",
              "  </svg>\n",
              "    </button>\n",
              "\n",
              "  <style>\n",
              "    .colab-df-container {\n",
              "      display:flex;\n",
              "      gap: 12px;\n",
              "    }\n",
              "\n",
              "    .colab-df-convert {\n",
              "      background-color: #E8F0FE;\n",
              "      border: none;\n",
              "      border-radius: 50%;\n",
              "      cursor: pointer;\n",
              "      display: none;\n",
              "      fill: #1967D2;\n",
              "      height: 32px;\n",
              "      padding: 0 0 0 0;\n",
              "      width: 32px;\n",
              "    }\n",
              "\n",
              "    .colab-df-convert:hover {\n",
              "      background-color: #E2EBFA;\n",
              "      box-shadow: 0px 1px 2px rgba(60, 64, 67, 0.3), 0px 1px 3px 1px rgba(60, 64, 67, 0.15);\n",
              "      fill: #174EA6;\n",
              "    }\n",
              "\n",
              "    .colab-df-buttons div {\n",
              "      margin-bottom: 4px;\n",
              "    }\n",
              "\n",
              "    [theme=dark] .colab-df-convert {\n",
              "      background-color: #3B4455;\n",
              "      fill: #D2E3FC;\n",
              "    }\n",
              "\n",
              "    [theme=dark] .colab-df-convert:hover {\n",
              "      background-color: #434B5C;\n",
              "      box-shadow: 0px 1px 3px 1px rgba(0, 0, 0, 0.15);\n",
              "      filter: drop-shadow(0px 1px 2px rgba(0, 0, 0, 0.3));\n",
              "      fill: #FFFFFF;\n",
              "    }\n",
              "  </style>\n",
              "\n",
              "    <script>\n",
              "      const buttonEl =\n",
              "        document.querySelector('#df-c6586975-2fb0-4373-bcb2-febf738468a0 button.colab-df-convert');\n",
              "      buttonEl.style.display =\n",
              "        google.colab.kernel.accessAllowed ? 'block' : 'none';\n",
              "\n",
              "      async function convertToInteractive(key) {\n",
              "        const element = document.querySelector('#df-c6586975-2fb0-4373-bcb2-febf738468a0');\n",
              "        const dataTable =\n",
              "          await google.colab.kernel.invokeFunction('convertToInteractive',\n",
              "                                                    [key], {});\n",
              "        if (!dataTable) return;\n",
              "\n",
              "        const docLinkHtml = 'Like what you see? Visit the ' +\n",
              "          '<a target=\"_blank\" href=https://colab.research.google.com/notebooks/data_table.ipynb>data table notebook</a>'\n",
              "          + ' to learn more about interactive tables.';\n",
              "        element.innerHTML = '';\n",
              "        dataTable['output_type'] = 'display_data';\n",
              "        await google.colab.output.renderOutput(dataTable, element);\n",
              "        const docLink = document.createElement('div');\n",
              "        docLink.innerHTML = docLinkHtml;\n",
              "        element.appendChild(docLink);\n",
              "      }\n",
              "    </script>\n",
              "  </div>\n",
              "\n",
              "\n",
              "<div id=\"df-e811288a-16d7-47ed-803b-8a215dfaa6d6\">\n",
              "  <button class=\"colab-df-quickchart\" onclick=\"quickchart('df-e811288a-16d7-47ed-803b-8a215dfaa6d6')\"\n",
              "            title=\"Suggest charts\"\n",
              "            style=\"display:none;\">\n",
              "\n",
              "<svg xmlns=\"http://www.w3.org/2000/svg\" height=\"24px\"viewBox=\"0 0 24 24\"\n",
              "     width=\"24px\">\n",
              "    <g>\n",
              "        <path d=\"M19 3H5c-1.1 0-2 .9-2 2v14c0 1.1.9 2 2 2h14c1.1 0 2-.9 2-2V5c0-1.1-.9-2-2-2zM9 17H7v-7h2v7zm4 0h-2V7h2v10zm4 0h-2v-4h2v4z\"/>\n",
              "    </g>\n",
              "</svg>\n",
              "  </button>\n",
              "\n",
              "<style>\n",
              "  .colab-df-quickchart {\n",
              "      --bg-color: #E8F0FE;\n",
              "      --fill-color: #1967D2;\n",
              "      --hover-bg-color: #E2EBFA;\n",
              "      --hover-fill-color: #174EA6;\n",
              "      --disabled-fill-color: #AAA;\n",
              "      --disabled-bg-color: #DDD;\n",
              "  }\n",
              "\n",
              "  [theme=dark] .colab-df-quickchart {\n",
              "      --bg-color: #3B4455;\n",
              "      --fill-color: #D2E3FC;\n",
              "      --hover-bg-color: #434B5C;\n",
              "      --hover-fill-color: #FFFFFF;\n",
              "      --disabled-bg-color: #3B4455;\n",
              "      --disabled-fill-color: #666;\n",
              "  }\n",
              "\n",
              "  .colab-df-quickchart {\n",
              "    background-color: var(--bg-color);\n",
              "    border: none;\n",
              "    border-radius: 50%;\n",
              "    cursor: pointer;\n",
              "    display: none;\n",
              "    fill: var(--fill-color);\n",
              "    height: 32px;\n",
              "    padding: 0;\n",
              "    width: 32px;\n",
              "  }\n",
              "\n",
              "  .colab-df-quickchart:hover {\n",
              "    background-color: var(--hover-bg-color);\n",
              "    box-shadow: 0 1px 2px rgba(60, 64, 67, 0.3), 0 1px 3px 1px rgba(60, 64, 67, 0.15);\n",
              "    fill: var(--button-hover-fill-color);\n",
              "  }\n",
              "\n",
              "  .colab-df-quickchart-complete:disabled,\n",
              "  .colab-df-quickchart-complete:disabled:hover {\n",
              "    background-color: var(--disabled-bg-color);\n",
              "    fill: var(--disabled-fill-color);\n",
              "    box-shadow: none;\n",
              "  }\n",
              "\n",
              "  .colab-df-spinner {\n",
              "    border: 2px solid var(--fill-color);\n",
              "    border-color: transparent;\n",
              "    border-bottom-color: var(--fill-color);\n",
              "    animation:\n",
              "      spin 1s steps(1) infinite;\n",
              "  }\n",
              "\n",
              "  @keyframes spin {\n",
              "    0% {\n",
              "      border-color: transparent;\n",
              "      border-bottom-color: var(--fill-color);\n",
              "      border-left-color: var(--fill-color);\n",
              "    }\n",
              "    20% {\n",
              "      border-color: transparent;\n",
              "      border-left-color: var(--fill-color);\n",
              "      border-top-color: var(--fill-color);\n",
              "    }\n",
              "    30% {\n",
              "      border-color: transparent;\n",
              "      border-left-color: var(--fill-color);\n",
              "      border-top-color: var(--fill-color);\n",
              "      border-right-color: var(--fill-color);\n",
              "    }\n",
              "    40% {\n",
              "      border-color: transparent;\n",
              "      border-right-color: var(--fill-color);\n",
              "      border-top-color: var(--fill-color);\n",
              "    }\n",
              "    60% {\n",
              "      border-color: transparent;\n",
              "      border-right-color: var(--fill-color);\n",
              "    }\n",
              "    80% {\n",
              "      border-color: transparent;\n",
              "      border-right-color: var(--fill-color);\n",
              "      border-bottom-color: var(--fill-color);\n",
              "    }\n",
              "    90% {\n",
              "      border-color: transparent;\n",
              "      border-bottom-color: var(--fill-color);\n",
              "    }\n",
              "  }\n",
              "</style>\n",
              "\n",
              "  <script>\n",
              "    async function quickchart(key) {\n",
              "      const quickchartButtonEl =\n",
              "        document.querySelector('#' + key + ' button');\n",
              "      quickchartButtonEl.disabled = true;  // To prevent multiple clicks.\n",
              "      quickchartButtonEl.classList.add('colab-df-spinner');\n",
              "      try {\n",
              "        const charts = await google.colab.kernel.invokeFunction(\n",
              "            'suggestCharts', [key], {});\n",
              "      } catch (error) {\n",
              "        console.error('Error during call to suggestCharts:', error);\n",
              "      }\n",
              "      quickchartButtonEl.classList.remove('colab-df-spinner');\n",
              "      quickchartButtonEl.classList.add('colab-df-quickchart-complete');\n",
              "    }\n",
              "    (() => {\n",
              "      let quickchartButtonEl =\n",
              "        document.querySelector('#df-e811288a-16d7-47ed-803b-8a215dfaa6d6 button');\n",
              "      quickchartButtonEl.style.display =\n",
              "        google.colab.kernel.accessAllowed ? 'block' : 'none';\n",
              "    })();\n",
              "  </script>\n",
              "</div>\n",
              "    </div>\n",
              "  </div>\n"
            ],
            "application/vnd.google.colaboratory.intrinsic+json": {
              "type": "dataframe",
              "variable_name": "df_new",
              "summary": "{\n  \"name\": \"df_new\",\n  \"rows\": 28,\n  \"fields\": [\n    {\n      \"column\": \"\\u0420\\u0435\\u0433\\u0456\\u043e\\u043d\",\n      \"properties\": {\n        \"dtype\": \"string\",\n        \"num_unique_values\": 28,\n        \"samples\": [\n          \"\\u041a\\u0438\\u0457\\u0432\\u0441\\u044c\\u043a\\u0430\",\n          \"\\u041a\\u0438\\u0457\\u0432\",\n          \"\\u0406\\u0432\\u0430\\u043d\\u043e-\\u0424\\u0440\\u0430\\u043d\\u043a\\u0456\\u0432\\u0441\\u044c\\u043a\\u0430\"\n        ],\n        \"semantic_type\": \"\",\n        \"description\": \"\"\n      }\n    },\n    {\n      \"column\": \"1950\",\n      \"properties\": {\n        \"dtype\": \"number\",\n        \"std\": 2.8220450849585057,\n        \"min\": 18.6,\n        \"max\": 31.4,\n        \"num_unique_values\": 22,\n        \"samples\": [\n          23.0,\n          24.1,\n          24.3\n        ],\n        \"semantic_type\": \"\",\n        \"description\": \"\"\n      }\n    },\n    {\n      \"column\": \"1960\",\n      \"properties\": {\n        \"dtype\": \"number\",\n        \"std\": 2.9360321694908085,\n        \"min\": 16.3,\n        \"max\": 27.3,\n        \"num_unique_values\": 25,\n        \"samples\": [\n          24.8,\n          18.4,\n          20.6\n        ],\n        \"semantic_type\": \"\",\n        \"description\": \"\"\n      }\n    },\n    {\n      \"column\": \"1970\",\n      \"properties\": {\n        \"dtype\": \"number\",\n        \"std\": 1.8703565484242883,\n        \"min\": 12.7,\n        \"max\": 20.7,\n        \"num_unique_values\": 23,\n        \"samples\": [\n          13.1,\n          15.6,\n          16.0\n        ],\n        \"semantic_type\": \"\",\n        \"description\": \"\"\n      }\n    },\n    {\n      \"column\": \"1990\",\n      \"properties\": {\n        \"dtype\": \"number\",\n        \"std\": 1.5278715699925614,\n        \"min\": 10.8,\n        \"max\": 16.8,\n        \"num_unique_values\": 22,\n        \"samples\": [\n          13.0,\n          15.8,\n          12.6\n        ],\n        \"semantic_type\": \"\",\n        \"description\": \"\"\n      }\n    },\n    {\n      \"column\": \"2000\",\n      \"properties\": {\n        \"dtype\": \"number\",\n        \"std\": 1.556807885916176,\n        \"min\": 6.1,\n        \"max\": 11.8,\n        \"num_unique_values\": 21,\n        \"samples\": [\n          7.3,\n          7.5,\n          6.8\n        ],\n        \"semantic_type\": \"\",\n        \"description\": \"\"\n      }\n    },\n    {\n      \"column\": \"2012\",\n      \"properties\": {\n        \"dtype\": \"number\",\n        \"std\": 1.6362744818318782,\n        \"min\": 9.4,\n        \"max\": 15.9,\n        \"num_unique_values\": 23,\n        \"samples\": [\n          9.7,\n          9.6,\n          12.6\n        ],\n        \"semantic_type\": \"\",\n        \"description\": \"\"\n      }\n    },\n    {\n      \"column\": \"2014\",\n      \"properties\": {\n        \"dtype\": \"string\",\n        \"num_unique_values\": 22,\n        \"samples\": [\n          \"10.9\",\n          \"12.3\",\n          \"12.1\"\n        ],\n        \"semantic_type\": \"\",\n        \"description\": \"\"\n      }\n    },\n    {\n      \"column\": \"2019\",\n      \"properties\": {\n        \"dtype\": \"string\",\n        \"num_unique_values\": 17,\n        \"samples\": [\n          \"7.6\",\n          \"10.1\",\n          \"6.8\"\n        ],\n        \"semantic_type\": \"\",\n        \"description\": \"\"\n      }\n    }\n  ]\n}"
            }
          },
          "metadata": {},
          "execution_count": 20
        }
      ]
    },
    {
      "cell_type": "code",
      "source": [
        "print(df_new.dtypes)"
      ],
      "metadata": {
        "colab": {
          "base_uri": "https://localhost:8080/"
        },
        "id": "kgy4gltjvVHx",
        "outputId": "ade27fd6-e102-4b99-c734-c110e4cbfaf5"
      },
      "execution_count": 21,
      "outputs": [
        {
          "output_type": "stream",
          "name": "stdout",
          "text": [
            "Регіон     object\n",
            "1950      float64\n",
            "1960      float64\n",
            "1970      float64\n",
            "1990      float64\n",
            "2000      float64\n",
            "2012      float64\n",
            "2014       object\n",
            "2019       object\n",
            "dtype: object\n"
          ]
        }
      ]
    },
    {
      "cell_type": "code",
      "source": [
        "df_new[['2014', '2019']] = df_new[['2014', '2019']].apply(pd.to_numeric)\n",
        "print(df_new.dtypes)"
      ],
      "metadata": {
        "id": "dZ3cEz-wvVNH",
        "colab": {
          "base_uri": "https://localhost:8080/"
        },
        "outputId": "391371ac-228b-4f0c-a938-330be26b40ae"
      },
      "execution_count": 22,
      "outputs": [
        {
          "output_type": "stream",
          "name": "stdout",
          "text": [
            "Регіон     object\n",
            "1950      float64\n",
            "1960      float64\n",
            "1970      float64\n",
            "1990      float64\n",
            "2000      float64\n",
            "2012      float64\n",
            "2014      float64\n",
            "2019      float64\n",
            "dtype: object\n"
          ]
        }
      ]
    },
    {
      "cell_type": "code",
      "source": [
        "print(df_new.isnull().sum() / len(df))"
      ],
      "metadata": {
        "colab": {
          "base_uri": "https://localhost:8080/"
        },
        "id": "2fj-PoE0vVSf",
        "outputId": "1cc6121f-9ce7-4a22-aef0-7178e64a7f00"
      },
      "execution_count": 23,
      "outputs": [
        {
          "output_type": "stream",
          "name": "stdout",
          "text": [
            "Регіон    0.000000\n",
            "1950      0.071429\n",
            "1960      0.035714\n",
            "1970      0.035714\n",
            "1990      0.000000\n",
            "2000      0.000000\n",
            "2012      0.000000\n",
            "2014      0.071429\n",
            "2019      0.142857\n",
            "dtype: float64\n"
          ]
        }
      ]
    },
    {
      "cell_type": "code",
      "source": [
        "df_without_last_row = df.drop(index=27)\n",
        "df_without_last_row = df_without_last_row.iloc[: -1]\n",
        "print(df_without_last_row)"
      ],
      "metadata": {
        "id": "gxJn_YOkvVX7",
        "colab": {
          "base_uri": "https://localhost:8080/"
        },
        "outputId": "b56747de-5833-4481-fdf8-8918764a1711"
      },
      "execution_count": 24,
      "outputs": [
        {
          "output_type": "stream",
          "name": "stdout",
          "text": [
            "               Регіон  1950  1960  1970  1990  2000  2012  2014  2019\n",
            "0                Крим  23.0  20.6  16.0  13.0   7.3  12.6     —     —\n",
            "1           Вінницька  22.4  19.2  14.2  12.4   8.4  11.2  10.9   7.6\n",
            "2           Волинська  24.7  25.0  17.9  15.3  11.2  14.8  14.1  10.1\n",
            "3    Дніпропетровська  20.4  20.4  15.1  12.3   7.1  11.2  11.1   7.1\n",
            "4            Донецька  27.1  21.4  14.0  10.9   6.1   9.8   8.2     —\n",
            "5         Житомирська  26.1  22.3  15.9  12.9   8.9  12.2  12.0   7.9\n",
            "6        Закарпатська  31.4  27.3  20.7  16.8  11.5  15.1  14.6  10.4\n",
            "7          Запорізька  21.9  19.7  15.0  12.4   7.1  10.6  10.6   6.8\n",
            "8   Івано-Франківська  24.3  24.8  18.2  15.5  10.3  12.4  12.2   8.8\n",
            "9            Київська  20.4  18.9  15.6  12.3   7.3  12.2  12.1   8.0\n",
            "10     Кіровоградська  21.6  17.1  14.5  12.6   7.9  11.0  10.8   6.8\n",
            "11          Луганська  26.2  23.5  14.4  11.6   6.2   9.6   5.1     —\n",
            "12          Львівська  23.4  24.0  17.1  14.0   9.1  11.9  11.9   8.7\n",
            "13       Миколаївська  21.1  19.4  15.5  13.7   8.0  11.5  11.2   7.1\n",
            "14            Одеська  24.1  19.2  14.8  12.6   8.0  12.7  12.3   8.8\n",
            "15         Полтавська  18.6  16.3  13.1  11.8   7.0   9.9  10.0   6.5\n",
            "16         Рівненська  26.9  26.7  19.3  15.8  11.8  15.9  14.8  10.7\n",
            "17            Сумська  21.6  18.4  13.2  11.5   7.0   9.7   9.2   6.0\n",
            "18      Тернопільська  21.3  21.6  15.7  14.2   9.2  11.3  10.9   7.6\n",
            "19         Харківська  19.7  17.3  14.0  11.4   6.8   9.9  10.1   6.8\n",
            "20         Херсонська  20.8  21.4  16.6  14.3   8.5  11.7  11.5   8.1\n",
            "21        Хмельницька  23.4  19.8  14.8  12.9   8.5  11.3  11.2   7.9\n",
            "22          Черкаська  20.5  17.9  14.4  12.3   7.5  10.0   9.8   6.4\n",
            "23        Чернівецька  24.7  21.8  17.0  14.8  10.1  12.8  12.9   9.2\n",
            "24       Чернігівська  22.0  18.3  12.7  10.8   6.9   9.4   9.0   6.1\n",
            "25               Київ   NaN  17.4  15.9  12.0   7.3  12.0  12.1  11.0\n"
          ]
        }
      ]
    },
    {
      "cell_type": "code",
      "source": [
        "for col in df_new.columns[1:]:\n",
        "    df_new[col] = df_new[col].fillna(df_new[col].mean()).round(1)\n",
        "print(df_new.head(10))"
      ],
      "metadata": {
        "colab": {
          "base_uri": "https://localhost:8080/"
        },
        "id": "9Zhy2dI1vVdh",
        "outputId": "98cdfcf2-320c-45a6-dd84-41cce611b3ca"
      },
      "execution_count": 25,
      "outputs": [
        {
          "output_type": "stream",
          "name": "stdout",
          "text": [
            "              Регіон  1950  1960  1970  1990  2000  2012  2014  2019\n",
            "0               Крим  23.0  20.6  16.0  13.0   7.3  12.6  11.1   8.0\n",
            "1          Вінницька  22.4  19.2  14.2  12.4   8.4  11.2  10.9   7.6\n",
            "2          Волинська  24.7  25.0  17.9  15.3  11.2  14.8  14.1  10.1\n",
            "3   Дніпропетровська  20.4  20.4  15.1  12.3   7.1  11.2  11.1   7.1\n",
            "4           Донецька  27.1  21.4  14.0  10.9   6.1   9.8   8.2   8.0\n",
            "5        Житомирська  26.1  22.3  15.9  12.9   8.9  12.2  12.0   7.9\n",
            "6       Закарпатська  31.4  27.3  20.7  16.8  11.5  15.1  14.6  10.4\n",
            "7         Запорізька  21.9  19.7  15.0  12.4   7.1  10.6  10.6   6.8\n",
            "8  Івано-Франківська  24.3  24.8  18.2  15.5  10.3  12.4  12.2   8.8\n",
            "9           Київська  20.4  18.9  15.6  12.3   7.3  12.2  12.1   8.0\n"
          ]
        }
      ]
    },
    {
      "cell_type": "code",
      "source": [
        "highest_birth_rate_2014_region = df_new[df_new['2019'] == df_new['2019'].max()]['Регіон']\n",
        "print(\"Регіон з найвищою народжуваністю у 2019 році:\")\n",
        "print(highest_birth_rate_2014_region)"
      ],
      "metadata": {
        "id": "IAnnDpdovVpx",
        "colab": {
          "base_uri": "https://localhost:8080/"
        },
        "outputId": "5fa69df6-c9c1-4aaf-acfd-ca647ffa60e7"
      },
      "execution_count": 26,
      "outputs": [
        {
          "output_type": "stream",
          "name": "stdout",
          "text": [
            "Регіон з найвищою народжуваністю у 2019 році:\n",
            "25    Київ\n",
            "Name: Регіон, dtype: object\n"
          ]
        }
      ]
    },
    {
      "cell_type": "code",
      "source": [
        "df_new.keys()"
      ],
      "metadata": {
        "colab": {
          "base_uri": "https://localhost:8080/"
        },
        "id": "QLZmsBEOBrYw",
        "outputId": "3f5a0810-4bab-4fa7-ce3b-15a7ab3860fb"
      },
      "execution_count": 27,
      "outputs": [
        {
          "output_type": "execute_result",
          "data": {
            "text/plain": [
              "Index(['Регіон', '1950', '1960', '1970', '1990', '2000', '2012', '2014',\n",
              "       '2019'],\n",
              "      dtype='object')"
            ]
          },
          "metadata": {},
          "execution_count": 27
        }
      ]
    },
    {
      "cell_type": "code",
      "source": [
        "avrg_ukr_rate = df_new.drop(columns = \"Регіон\").mean().round(3)[\"2019\"]\n",
        "\n",
        "print(\"mean_Ukraine: \", avrg_ukr_rate, \"\\n\")\n",
        "\n",
        "above_avarage_2019 = df_new[df_new[\"2019\"] > avrg_ukr_rate]['Регіон']\n",
        "print(\"Regions from 2019 which meet the target: \")\n",
        "above_avarage_2019"
      ],
      "metadata": {
        "id": "eKajT7bjvVwi",
        "colab": {
          "base_uri": "https://localhost:8080/",
          "height": 450
        },
        "outputId": "e05b20e1-5f5f-4395-fcc2-26a16bdf6a78"
      },
      "execution_count": 28,
      "outputs": [
        {
          "output_type": "stream",
          "name": "stdout",
          "text": [
            "mean_Ukraine:  8.018 \n",
            "\n",
            "Regions from 2019 which meet the target: \n"
          ]
        },
        {
          "output_type": "execute_result",
          "data": {
            "text/plain": [
              "2             Волинська\n",
              "6          Закарпатська\n",
              "8     Івано-Франківська\n",
              "12            Львівська\n",
              "14              Одеська\n",
              "16           Рівненська\n",
              "20           Херсонська\n",
              "23          Чернівецька\n",
              "25                 Київ\n",
              "27              Україна\n",
              "Name: Регіон, dtype: object"
            ],
            "text/html": [
              "<div>\n",
              "<style scoped>\n",
              "    .dataframe tbody tr th:only-of-type {\n",
              "        vertical-align: middle;\n",
              "    }\n",
              "\n",
              "    .dataframe tbody tr th {\n",
              "        vertical-align: top;\n",
              "    }\n",
              "\n",
              "    .dataframe thead th {\n",
              "        text-align: right;\n",
              "    }\n",
              "</style>\n",
              "<table border=\"1\" class=\"dataframe\">\n",
              "  <thead>\n",
              "    <tr style=\"text-align: right;\">\n",
              "      <th></th>\n",
              "      <th>Регіон</th>\n",
              "    </tr>\n",
              "  </thead>\n",
              "  <tbody>\n",
              "    <tr>\n",
              "      <th>2</th>\n",
              "      <td>Волинська</td>\n",
              "    </tr>\n",
              "    <tr>\n",
              "      <th>6</th>\n",
              "      <td>Закарпатська</td>\n",
              "    </tr>\n",
              "    <tr>\n",
              "      <th>8</th>\n",
              "      <td>Івано-Франківська</td>\n",
              "    </tr>\n",
              "    <tr>\n",
              "      <th>12</th>\n",
              "      <td>Львівська</td>\n",
              "    </tr>\n",
              "    <tr>\n",
              "      <th>14</th>\n",
              "      <td>Одеська</td>\n",
              "    </tr>\n",
              "    <tr>\n",
              "      <th>16</th>\n",
              "      <td>Рівненська</td>\n",
              "    </tr>\n",
              "    <tr>\n",
              "      <th>20</th>\n",
              "      <td>Херсонська</td>\n",
              "    </tr>\n",
              "    <tr>\n",
              "      <th>23</th>\n",
              "      <td>Чернівецька</td>\n",
              "    </tr>\n",
              "    <tr>\n",
              "      <th>25</th>\n",
              "      <td>Київ</td>\n",
              "    </tr>\n",
              "    <tr>\n",
              "      <th>27</th>\n",
              "      <td>Україна</td>\n",
              "    </tr>\n",
              "  </tbody>\n",
              "</table>\n",
              "</div><br><label><b>dtype:</b> object</label>"
            ]
          },
          "metadata": {},
          "execution_count": 28
        }
      ]
    },
    {
      "cell_type": "code",
      "source": [
        "import matplotlib.pyplot as plt\n",
        "\n",
        "plt.bar(df_new.iloc[:, 0], df_new[\"2019\"], label=\"Population Growth\")\n",
        "plt.xlabel(\"Fertility coeffitient\", fontsize=\"small\", color=\"midnightblue\")\n",
        "plt.ylabel(\"City of Ukraine\", fontsize=\"8\", color=\"midnightblue\")\n",
        "plt.title(\"Ukraine fertility level in 2019\", fontsize=15, color=\"black\")\n",
        "plt.legend(fontsize = \"7\")\n",
        "plt.xticks(rotation=90, fontsize=\"7\")\n",
        "plt.show()\n"
      ],
      "metadata": {
        "colab": {
          "base_uri": "https://localhost:8080/",
          "height": 554
        },
        "id": "ZrcL1e6M7xVl",
        "outputId": "fc294c70-3b33-4637-f204-2e6d1bc53f8b"
      },
      "execution_count": 29,
      "outputs": [
        {
          "output_type": "display_data",
          "data": {
            "text/plain": [
              "<Figure size 640x480 with 1 Axes>"
            ],
            "image/png": "[encoded data removed]"
          },
          "metadata": {}
        }
      ]
    }
  ]
}